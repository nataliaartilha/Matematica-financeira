{
 "cells": [
  {
   "cell_type": "markdown",
   "id": "3c750e8a",
   "metadata": {},
   "source": [
    "Problema: \n",
    "Um pequeno comerciante deseja adquirir um equipamento que custa R$\n",
    "80.000,00, mas não conseguiu financiamento junto ao sistema financeiro. Assim,\n",
    "decidiu empregar recursos próprios. Ele aplicar´a 10% de sua receita\n",
    "mensal de vendas em uma poupan¸ca que rende 6% ao ano. Atualmente,\n",
    "seu negócio tem um movimento mensal de 2.500 mercadorias vendidas a um\n",
    "preço unitário de R$ 8,50, mas ele estima que esta receita de vendas caia a\n",
    "uma taxa de 4% ao ano."
   ]
  },
  {
   "cell_type": "markdown",
   "id": "fc3fc4e4",
   "metadata": {},
   "source": [
    "Exercício 1:\n",
    "Quantos meses ele levará para juntar a quantia necessária para a compra\n",
    "do equipamento? (Dica: Construa um procedimento iterativo baseado\n",
    "no algoritmo de Newton. Se quiser, você pode fazer um programa\n",
    "em R ou em Python, ou mesmo na HP12C. Deixe bem claro seu procedimento\n",
    "de solução, qualquer que seja ele.)"
   ]
  },
  {
   "cell_type": "code",
   "execution_count": null,
   "id": "666b9c68",
   "metadata": {},
   "outputs": [],
   "source": [
    "import numpy as np\n",
    "from math import log\n",
    "def newton_method(N, ERRO, I, VF, AP, TXREC):\n",
    "\n",
    "    q=(1- TXREC)/(1+I)\n",
    "    sn=((q**N)-1)/(q-1)\n",
    "    \n",
    "    fn=((1+I)**N)*AP*(sn)-VF\n",
    "    dfdn=(AP*log(1+I)*((1+I)**N)*sn)+(AP*((1+I)**N)*(1/(q-1))*log(q)*(q**N))\n",
    "    NK=N-fn/dfdn\n",
    "    if abs(NK-N)<=ERRO:\n",
    "        return NK\n",
    "    else:\n",
    "        return newton_method(N=NK, ERRO=ERRO,I=I,VF=VF,AP=AP,TXREC=TXREC)"
   ]
  },
  {
   "cell_type": "code",
   "execution_count": 21,
   "id": "6a1a78b8",
   "metadata": {},
   "outputs": [
    {
     "name": "stdout",
     "output_type": "stream",
     "text": [
      "EXERCÍCIO 1: A taxa de juros mensal é 0.004867550565343048, o valor futuro 80000, o aporte mensal é de 2125.0, a taxa de decaimento da receita 0.0033333333333333335, para atingir os 80000 leva 36.339576304596136 meses\n"
     ]
    }
   ],
   "source": [
    "I=1.06**(1/12)-1\n",
    "VF=80000\n",
    "receita_mensal=2500*8.5\n",
    "aporte=receita_mensal*0.1\n",
    "receita_taxa_decaimento=0.04/12\n",
    "meses_ex_1=newton_method(N=5,ERRO=1e-6,I=I,VF=VF,AP=aporte,TXREC=receita_taxa_decaimento)\n",
    "print(f'EXERCÍCIO 1: A taxa de juros mensal é {I}, o valor futuro {VF}, o aporte mensal é de {aporte}, a taxa de decaimento da receita {receita_taxa_decaimento}, para atingir os 80000 leva {meses_ex_1} meses')"
   ]
  },
  {
   "cell_type": "markdown",
   "id": "f3b6b8cb",
   "metadata": {},
   "source": [
    "Exercício 2:\n",
    "Suponha que, antes de iniciar a poupan¸ca, haja uma reversão de cenário\n",
    "e que o comerciante passe a estimar que as vendas crescerão a uma taxa\n",
    "de 6% ao ano. O que acontece com os cálculos acima? Elabore uma\n",
    "proposta de solu¸cão para o problema observado nos cálculos."
   ]
  },
  {
   "cell_type": "code",
   "execution_count": 22,
   "id": "92f230d8",
   "metadata": {},
   "outputs": [],
   "source": [
    "def iteracao(I,VF,AP,TXREC):\n",
    "    \n",
    "    k=0\n",
    "    b=0\n",
    "    \n",
    "    while True:\n",
    "        \n",
    "        a=(1+I)**k\n",
    "        b+=((1-TXREC)/(1+I))**k\n",
    "        valor=AP*a*b\n",
    "        \n",
    "        if valor>=VF:\n",
    "            return k\n",
    "        \n",
    "        k+=1"
   ]
  },
  {
   "cell_type": "code",
   "execution_count": 23,
   "id": "70a7face",
   "metadata": {},
   "outputs": [
    {
     "name": "stdout",
     "output_type": "stream",
     "text": [
      "EXERCÍCIO 2: A taxa de juros mensal é 0.004867550565343048, o valor futuro 80000, o aporte mensal é de 2125.0, a taxa de decaimento da receita 0.0033333333333333335, para atingir os 80000 leva 32 meses\n"
     ]
    }
   ],
   "source": [
    "I=1.06**(1/12)-1\n",
    "VF=80000\n",
    "receita_mensal=2500*8.50\n",
    "aporte=receita_mensal*0.1\n",
    "receita_taxa_crescimento=-0.06/12\n",
    "meses_ex_2=iteracao(I=I,VF=VF,AP=aporte,TXREC=receita_taxa_crescimento)\n",
    "print(f'EXERCÍCIO 2: A taxa de juros mensal é {I}, o valor futuro {VF}, o aporte mensal é de {aporte}, a taxa de decaimento da receita {receita_taxa_decaimento}, para atingir os 80000 leva {meses_ex_2} meses')"
   ]
  },
  {
   "cell_type": "code",
   "execution_count": null,
   "id": "8942c445",
   "metadata": {},
   "outputs": [],
   "source": []
  }
 ],
 "metadata": {
  "kernelspec": {
   "display_name": "Python 3 (ipykernel)",
   "language": "python",
   "name": "python3"
  },
  "language_info": {
   "codemirror_mode": {
    "name": "ipython",
    "version": 3
   },
   "file_extension": ".py",
   "mimetype": "text/x-python",
   "name": "python",
   "nbconvert_exporter": "python",
   "pygments_lexer": "ipython3",
   "version": "3.9.12"
  }
 },
 "nbformat": 4,
 "nbformat_minor": 5
}
